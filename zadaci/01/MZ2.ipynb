{
 "cells": [
  {
   "cell_type": "markdown",
   "metadata": {},
   "source": [
    "## Zadatak\n",
    "Napraviti rječnik (```dict```) koji je presjek dvaju rječnika na sljedeći način:\n",
    "* ključevi tog rječnika su oni koji se nalaze i u jednom i u drugom rječniku\n",
    "* vrijednosti se prepisuju iz prvog rječnika.\n",
    "* kad smo uspijemo to napraviti, treba to sve presložiti u funkciju sa signaturom\n",
    "```python\n",
    "def presjek_rjecnika(r1, r2):\n",
    "```"
   ]
  },
  {
   "cell_type": "markdown",
   "metadata": {},
   "source": [
    "Zadani primjeri dvaju rječnika"
   ]
  },
  {
   "cell_type": "code",
   "execution_count": 19,
   "metadata": {
    "collapsed": true
   },
   "outputs": [],
   "source": [
    "r = {1:'A',   2:'B',  3:'C',  'kljuc':12}\n",
    "q = {2:'X' ,  3:'Y',  4:'Z'}"
   ]
  },
  {
   "cell_type": "markdown",
   "metadata": {},
   "source": [
    "Rješenje bi trebao biti ovakav rječnik"
   ]
  },
  {
   "cell_type": "code",
   "execution_count": 23,
   "metadata": {
    "collapsed": false
   },
   "outputs": [
    {
     "data": {
      "text/plain": [
       "{2: 'B', 3: 'C'}"
      ]
     },
     "execution_count": 23,
     "metadata": {},
     "output_type": "execute_result"
    }
   ],
   "source": [
    "# Rjesenje\n",
    "{2:'B', 3:'C'}"
   ]
  },
  {
   "cell_type": "markdown",
   "metadata": {},
   "source": [
    "## Rješenje"
   ]
  },
  {
   "cell_type": "code",
   "execution_count": 21,
   "metadata": {
    "collapsed": false
   },
   "outputs": [],
   "source": [
    "kljucevi_r = set(r.keys())\n",
    "kljucevi_q = set(q.keys())"
   ]
  },
  {
   "cell_type": "code",
   "execution_count": 22,
   "metadata": {
    "collapsed": false
   },
   "outputs": [
    {
     "data": {
      "text/plain": [
       "{2, 3}"
      ]
     },
     "execution_count": 22,
     "metadata": {},
     "output_type": "execute_result"
    }
   ],
   "source": [
    "presjek = kljucevi_r   & kljucevi_q\n",
    "presjek"
   ]
  },
  {
   "cell_type": "code",
   "execution_count": 24,
   "metadata": {
    "collapsed": false
   },
   "outputs": [],
   "source": [
    "s = {}\n",
    "for i in presjek:\n",
    "    s[i] = r[i]"
   ]
  },
  {
   "cell_type": "markdown",
   "metadata": {},
   "source": [
    "Ovo je moguće kraće zapisati na sljedeći način."
   ]
  },
  {
   "cell_type": "code",
   "execution_count": 25,
   "metadata": {
    "collapsed": false
   },
   "outputs": [
    {
     "data": {
      "text/plain": [
       "{2: 'B', 3: 'C'}"
      ]
     },
     "execution_count": 25,
     "metadata": {},
     "output_type": "execute_result"
    }
   ],
   "source": [
    "{k:r[k] for k in presjek}"
   ]
  },
  {
   "cell_type": "markdown",
   "metadata": {},
   "source": [
    "Evo funkcije (nakon sređivanja)"
   ]
  },
  {
   "cell_type": "code",
   "execution_count": 1,
   "metadata": {
    "collapsed": false
   },
   "outputs": [],
   "source": [
    "def presjek_rjecnika(r1, r2):\n",
    "    \"\"\"\n",
    "    Ova funkcija racun presjek rjecnika r1 i r2.\n",
    "    Vraca rjecnik koji ima kljuceve iz presjeka, a\n",
    "    vrijednosti preuzima od prvog rjecnika.\n",
    "    \"\"\"\n",
    "    kljucevi_r1 = set(r1.keys())\n",
    "    kljucevi_r2 = set(r2.keys())\n",
    "    \n",
    "    R = { k:r1[k] for k in (kljucevi_r1 & kljucevi_r2) } \n",
    "    return R"
   ]
  },
  {
   "cell_type": "code",
   "execution_count": 27,
   "metadata": {
    "collapsed": false
   },
   "outputs": [
    {
     "data": {
      "text/plain": [
       "{2: 'B', 3: 'C'}"
      ]
     },
     "execution_count": 27,
     "metadata": {},
     "output_type": "execute_result"
    }
   ],
   "source": [
    "presjek_rjecnika(r,q)"
   ]
  },
  {
   "cell_type": "markdown",
   "metadata": {
    "collapsed": true
   },
   "source": [
    "### %writefile i %load\n",
    "\n",
    "Ako smo zadovoljno možemo ćeliju snimiti u datoteku ```presjek_rjecnika.py``` tako da ne njezin \n",
    "početak napišemo\n",
    "```python\n",
    "%writefile presjek_rjecnika.py\n",
    "```\n",
    "A jednako tako možemo i učitati datoteku u ćeliju s \n",
    "```python\n",
    "load skripta.py\n",
    "```"
   ]
  }
 ],
 "metadata": {
  "kernelspec": {
   "display_name": "Python 3",
   "language": "python",
   "name": "python3"
  },
  "language_info": {
   "codemirror_mode": {
    "name": "ipython",
    "version": 3
   },
   "file_extension": ".py",
   "mimetype": "text/x-python",
   "name": "python",
   "nbconvert_exporter": "python",
   "pygments_lexer": "ipython3",
   "version": "3.4.3+"
  }
 },
 "nbformat": 4,
 "nbformat_minor": 0
}
