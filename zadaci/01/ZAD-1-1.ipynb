{
 "cells": [
  {
   "cell_type": "markdown",
   "metadata": {},
   "source": [
    "## Zadatak\n",
    "Izvaditi srednji tečaj eura sa HNB-ove stranice.\n",
    "<br />\n",
    "\n"
   ]
  },
  {
   "cell_type": "markdown",
   "metadata": {},
   "source": [
    "*Hint 1:* povući (učitati) stranicu \n",
    "http://www.hnb.hr/tecajn/hvazeca.htm\n",
    "\n",
    "*Hint 2:* pronaći string u ovoj listi koji sadrži nešto bitno... odnosno koji odgovara liniji u kojoj piše srednji tečaj eura.\n",
    "\n",
    "*Hint 2.5:* Koristite curl\n",
    "```bash\n",
    "curl -s http://www.hnb.hr/tecajn/hvazeca.htm\n",
    "```\n",
    "\n",
    "*Hint 3:* umjesto \"!curl\" koristite [```request```](http://www.python-requests.org/en/latest/) library\n"
   ]
  },
  {
   "cell_type": "code",
   "execution_count": 3,
   "metadata": {
    "collapsed": false
   },
   "outputs": [],
   "source": [
    "hnb_stranica = !curl -s http://www.hnb.hr/tecajn/hvazeca.htm"
   ]
  },
  {
   "cell_type": "code",
   "execution_count": 4,
   "metadata": {
    "collapsed": false
   },
   "outputs": [
    {
     "data": {
      "text/plain": [
       "(IPython.utils.text.SList, 70)"
      ]
     },
     "execution_count": 4,
     "metadata": {},
     "output_type": "execute_result"
    }
   ],
   "source": [
    "type(hnb_stranica), len(hnb_stranica)"
   ]
  },
  {
   "cell_type": "code",
   "execution_count": null,
   "metadata": {
    "collapsed": true
   },
   "outputs": [],
   "source": [
    "hnb_stranica"
   ]
  },
  {
   "cell_type": "code",
   "execution_count": 6,
   "metadata": {
    "collapsed": false
   },
   "outputs": [
    {
     "name": "stdout",
     "output_type": "stream",
     "text": [
      "7,546921\n"
     ]
    }
   ],
   "source": [
    "for linija in hnb_stranica:\n",
    "    # pronaci liniju koja sadrzi 'EUR' u sebi\n",
    "    if \"EUR\" in linija:\n",
    "        \n",
    "        #import pdb; pdb.set_trace()\n",
    "        lista = linija.split()\n",
    "        \n",
    "        # predpredzadnji član liste\n",
    "        print (lista[-2])"
   ]
  },
  {
   "cell_type": "markdown",
   "metadata": {},
   "source": [
    "Zapišimo to kao funkciju."
   ]
  },
  {
   "cell_type": "code",
   "execution_count": null,
   "metadata": {
    "collapsed": false
   },
   "outputs": [],
   "source": [
    "def prokuzi_srednji_tecaj(lista_linija):\n",
    "    \"\"\"\n",
    "    Iz .... izvadi srednji tecaj eura.\n",
    "    \"\"\"\n",
    "    \n",
    "    for linija in lista_linija:\n",
    "        # pronaci liniju koja sadrzi 'EUR' u sebi\n",
    "        if \"EUR\" in linija:\n",
    "            lista = linija.split()\n",
    "            return lista[-2]\n",
    "    "
   ]
  },
  {
   "cell_type": "code",
   "execution_count": null,
   "metadata": {
    "collapsed": false
   },
   "outputs": [],
   "source": [
    "prokuzi_srednji_tecaj(hnb_stranica)"
   ]
  }
 ],
 "metadata": {
  "kernelspec": {
   "display_name": "Python 3",
   "language": "python",
   "name": "python3"
  },
  "language_info": {
   "codemirror_mode": {
    "name": "ipython",
    "version": 3
   },
   "file_extension": ".py",
   "mimetype": "text/x-python",
   "name": "python",
   "nbconvert_exporter": "python",
   "pygments_lexer": "ipython3",
   "version": "3.4.3+"
  }
 },
 "nbformat": 4,
 "nbformat_minor": 0
}
