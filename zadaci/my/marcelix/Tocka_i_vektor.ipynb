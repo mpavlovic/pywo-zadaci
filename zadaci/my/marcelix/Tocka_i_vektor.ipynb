{
 "cells": [
  {
   "cell_type": "code",
   "execution_count": 48,
   "metadata": {
    "collapsed": false
   },
   "outputs": [
    {
     "name": "stdout",
     "output_type": "stream",
     "text": [
      "Writing ravnina.py\n"
     ]
    }
   ],
   "source": [
    "%%writefile ravnina.py\n",
    "\n",
    "\n",
    "\n",
    "from math import sqrt\n",
    "\n",
    "class Tocka:\n",
    "    \"\"\"\n",
    "       Opis ove klase.\n",
    "       \n",
    "       2-dim tocke u ravnini.\n",
    "    \"\"\"\n",
    "    \n",
    "    def __init__(self, x, y):\n",
    "        self.x = x\n",
    "        self.y = y\n",
    "    \n",
    "    \n",
    "    def norm(self):\n",
    "        return sqrt( self.x**2 + self.y**2  )\n",
    "        \n",
    "    \n",
    "    \n",
    "    def __repr__(self):\n",
    "        return \"Tocka({0}, {1})\".format(self.x,self.y)\n",
    "        \n",
    "\n",
    "class Vektor(Tocka):\n",
    "    \n",
    "    def __add__(self, b):\n",
    "        \"\"\" self je vektor, b je vektor\n",
    "        \"\"\"\n",
    "        x = self.x + b.x\n",
    "        y = self.y + b.y\n",
    "        return Vektor(x, y)\n",
    "    \n",
    "    def __repr__(self):\n",
    "        return \"Vektor({0}, {1})\".format(self.x,self.y)"
   ]
  },
  {
   "cell_type": "code",
   "execution_count": 49,
   "metadata": {
    "collapsed": false
   },
   "outputs": [
    {
     "name": "stdout",
     "output_type": "stream",
     "text": [
      "Excel-citanje.ipynb\t\t    presjek_rjecnika.py  t\r\n",
      "Funkcije i njihovi argumenti.ipynb  pywo_some_data.xlsx  Tocka_i_vektor.ipynb\r\n",
      "Iterator protokol.ipynb\t\t    ravnina.py\r\n"
     ]
    }
   ],
   "source": [
    "!ls"
   ]
  },
  {
   "cell_type": "code",
   "execution_count": 45,
   "metadata": {
    "collapsed": false
   },
   "outputs": [
    {
     "name": "stdout",
     "output_type": "stream",
     "text": [
      "Vektor(0, -1)\n"
     ]
    }
   ],
   "source": [
    "a = Vektor(-1,-3)\n",
    "b = Vektor(1,2)\n",
    "\n",
    "c = a + b\n",
    "print(c)"
   ]
  },
  {
   "cell_type": "code",
   "execution_count": 50,
   "metadata": {
    "collapsed": false
   },
   "outputs": [
    {
     "data": {
      "text/plain": [
       "Vektor(0, -1)"
      ]
     },
     "execution_count": 50,
     "metadata": {},
     "output_type": "execute_result"
    }
   ],
   "source": [
    "c.norm()\n",
    "c"
   ]
  },
  {
   "cell_type": "markdown",
   "metadata": {},
   "source": [
    "Zelim jos"
   ]
  },
  {
   "cell_type": "code",
   "execution_count": 51,
   "metadata": {
    "collapsed": false
   },
   "outputs": [
    {
     "ename": "TypeError",
     "evalue": "unsupported operand type(s) for -: 'Vektor' and 'Vektor'",
     "output_type": "error",
     "traceback": [
      "\u001b[1;31m---------------------------------------------------------------------------\u001b[0m",
      "\u001b[1;31mTypeError\u001b[0m                                 Traceback (most recent call last)",
      "\u001b[1;32m<ipython-input-51-a03d788d1142>\u001b[0m in \u001b[0;36m<module>\u001b[1;34m()\u001b[0m\n\u001b[1;32m----> 1\u001b[1;33m \u001b[0mc\u001b[0m \u001b[1;33m-\u001b[0m \u001b[0ma\u001b[0m\u001b[1;33m\u001b[0m\u001b[0m\n\u001b[0m",
      "\u001b[1;31mTypeError\u001b[0m: unsupported operand type(s) for -: 'Vektor' and 'Vektor'"
     ]
    }
   ],
   "source": [
    "c - a\n",
    "2 * c "
   ]
  },
  {
   "cell_type": "code",
   "execution_count": 21,
   "metadata": {
    "collapsed": false
   },
   "outputs": [
    {
     "data": {
      "text/plain": [
       "5.000000000000001"
      ]
     },
     "execution_count": 21,
     "metadata": {},
     "output_type": "execute_result"
    }
   ],
   "source": [
    "A = Tocka(1,2)\n",
    "A.norm()**2"
   ]
  },
  {
   "cell_type": "markdown",
   "metadata": {},
   "source": [
    "$$\n",
    "\\text{P.norm()}=\\sqrt{x^2 + y^2}\n",
    "$$"
   ]
  },
  {
   "cell_type": "code",
   "execution_count": null,
   "metadata": {
    "collapsed": true
   },
   "outputs": [],
   "source": [
    "zbroji_vektore "
   ]
  }
 ],
 "metadata": {
  "kernelspec": {
   "display_name": "Python 3",
   "language": "python",
   "name": "python3"
  },
  "language_info": {
   "codemirror_mode": {
    "name": "ipython",
    "version": 3
   },
   "file_extension": ".py",
   "mimetype": "text/x-python",
   "name": "python",
   "nbconvert_exporter": "python",
   "pygments_lexer": "ipython3",
   "version": "3.4.3+"
  }
 },
 "nbformat": 4,
 "nbformat_minor": 0
}
