{
 "cells": [
  {
   "cell_type": "markdown",
   "metadata": {},
   "source": [
    "# [PyWo 2015](http://goo.gl/6oemXm)\n",
    "---\n"
   ]
  },
  {
   "cell_type": "markdown",
   "metadata": {},
   "source": [
    "# Zadatak 2.2\n",
    "\n",
    "**a)** Dovršite zadatak s radionice tako da je klase podržavaju ovakav račun:\n",
    "```python\n",
    "a+b, a-b, 2*b, 4c\n",
    "```\n",
    "pri čemu su ```a```, ```b```, ```c``` vektor. Na primjer\n",
    "```python\n",
    "a = Vektor(1,2)\n",
    "b = Vektor(-12,34)\n",
    "c = Vektor(34,-13)\n",
    "```\n",
    "Uočite da se ovdje radi o 3 računske operacije.\n",
    "\n",
    "**b)** Snimite obje klase u datoteku (modul) ```ravnina.py```.  <br />\n",
    "Upotrebite ```%writefile``` koji je trenutno zakomentiran.\n",
    "\n",
    "**c)** Napraviti ```rr.py``` aplikaciju koju iz konzole možemo pozvati na sljedeće načine.\n",
    "```bash\n",
    "rr --add (1,3) (3,2)\n",
    "\n",
    "rr --sub (3,0) (-12,3)\n",
    "rr --sub (3,0) (-12,3) --debug\n",
    "rr --sub (3,0) (-12,3) --verbose\n",
    "```\n",
    "Za to je potrebno napraviti parser za argumente komandne linije.\n",
    "Proučite modul [argparse](https://docs.python.org/3/library/argparse.html).\n",
    "\n",
    "Po potrebi (pip) instalirajte ```argparse```.\n",
    "\n",
    "\n",
    "** d) ** Implementirajte skalarni produkt ovih vektora tako da je podržano računanje skalarnog produkta \n",
    "```python\n",
    "a*b == 56\n",
    "```\n",
    "za (vektore) ```a``` i ```b``` iz a) dijela zadatka.\n",
    "\n",
    "---\n"
   ]
  },
  {
   "cell_type": "code",
   "execution_count": 10,
   "metadata": {
    "collapsed": false
   },
   "outputs": [],
   "source": [
    "#%%writefile ravnina.py\n",
    "\"\"\"\n",
    " Licenca, opis, itd.\n",
    "\"\"\"\n",
    "\n",
    "__author__ = \"Ime Prezime\"\n",
    "__email__ = \"email@foi.hr\"\n",
    "\n",
    "from math import sqrt\n",
    "\n",
    "\n",
    "class Tocka:\n",
    "    \"\"\"\n",
    "       Opis ove klase.\n",
    "       \n",
    "       2-dim tocke u ravnini.\n",
    "    \"\"\"\n",
    "    \n",
    "    def __init__(self, x, y):\n",
    "        self.x = x\n",
    "        self.y = y\n",
    "        \n",
    "    \n",
    "    def __repr__(self):\n",
    "        return \"Tocka({0}, {1})\".format(self.x,self.y)\n",
    "        \n",
    "\n",
    "        \n",
    "class Vektor(Tocka):\n",
    "    \"\"\"\n",
    "    Opis klase\n",
    "    2-dim vektor.\n",
    "    \"\"\"\n",
    "    \n",
    "    def __add__(self, b):\n",
    "        \"\"\" self je vektor, b je vektor\n",
    "        \"\"\"\n",
    "        x = self.x + b.x\n",
    "        y = self.y + b.y\n",
    "        return Vektor(x, y)\n",
    "    \n",
    "    def norm(self):\n",
    "        return sqrt( self.x**2 + self.y**2  )\n",
    "\n",
    "    \n",
    "    def __repr__(self):\n",
    "        return \"Vektor({0}, {1})\".format(self.x,self.y)\n",
    "    "
   ]
  },
  {
   "cell_type": "markdown",
   "metadata": {},
   "source": [
    "## Primjer "
   ]
  },
  {
   "cell_type": "code",
   "execution_count": 13,
   "metadata": {
    "collapsed": false
   },
   "outputs": [
    {
     "data": {
      "text/plain": [
       "Vektor(0, -1)"
      ]
     },
     "execution_count": 13,
     "metadata": {},
     "output_type": "execute_result"
    }
   ],
   "source": [
    "a = Vektor(-1,-3)\n",
    "b = Vektor(1,2)\n",
    "\n",
    "c = a + b\n",
    "c"
   ]
  },
  {
   "cell_type": "markdown",
   "metadata": {},
   "source": [
    "#### Misc"
   ]
  },
  {
   "cell_type": "code",
   "execution_count": 20,
   "metadata": {
    "collapsed": false
   },
   "outputs": [
    {
     "name": "stdout",
     "output_type": "stream",
     "text": [
      "https://gist.github.com/1370a816c8d21970f52f\r\n"
     ]
    }
   ],
   "source": [
    "gist_url = r\"https://gist.github.com/1370a816c8d21970f52f\"\n",
    "!gist-paste Zadatak_2-2_tocka_i_vektor.ipynb -u $gist_url"
   ]
  }
 ],
 "metadata": {
  "kernelspec": {
   "display_name": "Python 3",
   "language": "python",
   "name": "python3"
  },
  "language_info": {
   "codemirror_mode": {
    "name": "ipython",
    "version": 3
   },
   "file_extension": ".py",
   "mimetype": "text/x-python",
   "name": "python",
   "nbconvert_exporter": "python",
   "pygments_lexer": "ipython3",
   "version": "3.4.3+"
  }
 },
 "nbformat": 4,
 "nbformat_minor": 0
}
