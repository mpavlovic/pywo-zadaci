{
 "cells": [
  {
   "cell_type": "code",
   "execution_count": 9,
   "metadata": {
    "collapsed": false
   },
   "outputs": [
    {
     "name": "stdout",
     "output_type": "stream",
     "text": [
      "[['Aleksić', 'Filip'], ['Bodulušić', 'Matea'], ['Cundić', 'Tomislav'], ['Čačić', 'Peđa'], ['Danzante', 'Andrea'], ['Grgača', 'Gabrijela'], ['Gucek', 'Matej'], ['Kaniški', 'Matija'], ['Milašinović', 'Vladimir'], ['Mlakar', 'Josip'], ['Pavlović', 'Milan'], ['Popović', 'Elvis'], ['Poslončec', 'Saša'], ['Pušec', 'Senko'], ['Rafajec', 'Filip'], ['Rakarec', 'Stjepan'], ['Šestak', 'Petar'], ['Šolja', 'Jura'], ['Špičko', 'Davorin'], ['Tomašković', 'Roman'], ['Vađunec', 'Vedran'], ['Završki', 'Ivana'], ['Zebić', 'Mislav'], ['Žonja', 'Ian']]\n"
     ]
    }
   ],
   "source": [
    "import xlrd\n",
    "import xlwt\n",
    "import locale\n",
    "\n",
    "filename = \"pywo_some_data.xlsx\"\n",
    "locale.setlocale(locale.LC_ALL, \"hrv_hrv\")\n",
    "\n",
    "workbook = xlrd.open_workbook(filename)\n",
    "sheet = workbook.sheet_by_index(0)\n",
    "\n",
    "#print(sheet.col(0))\n",
    "\n",
    "rawStudents = []\n",
    "\n",
    "for rowIndex in range(1,sheet.nrows):\n",
    "    for columnIndex in range(0, sheet.ncols):\n",
    "        cellObject = sheet.cell(rowIndex, columnIndex)\n",
    "        #print(cellObject.value)\n",
    "        rawStudents.append(cellObject.value)\n",
    "\n",
    "students = [x for x in rawStudents if x != '']\n",
    "\n",
    "def sredi(ime):\n",
    "    v = ime.strip(\", \")\n",
    "    parts = v.split()\n",
    "    return parts[::-1]\n",
    "\n",
    "P = [sredi(student) for student in students]\n",
    "\n",
    "fja_usporedbe = lambda x: locale.strxfrm(x[0])\n",
    "\n",
    "S = sorted(P, key=fja_usporedbe)\n",
    "\n",
    "print(S)\n",
    "\n",
    "workbook = xlwt.Workbook()\n",
    "worksheet = workbook.add_sheet(\"Studenti\")\n",
    "\n",
    "for i in range(0, len(S)):\n",
    "    student = S[i][0] + \" \" + S[i][1]\n",
    "    worksheet.write(i, 0, student)\n",
    "\n",
    "workbook.save(\"pywo-studenti.xls\")"
   ]
  },
  {
   "cell_type": "code",
   "execution_count": null,
   "metadata": {
    "collapsed": true
   },
   "outputs": [],
   "source": [
    "Sredimo listu u format \"PREZIME IME\""
   ]
  },
  {
   "cell_type": "code",
   "execution_count": 16,
   "metadata": {
    "collapsed": true
   },
   "outputs": [],
   "source": [
    "ime = \"Josip Mlakar,\"\n",
    "\n",
    "def sredi(ime):\n",
    "    v = ime.strip()\n",
    "    parts = v.split()\n",
    "    return parts[::-1]"
   ]
  },
  {
   "cell_type": "code",
   "execution_count": 17,
   "metadata": {
    "collapsed": false
   },
   "outputs": [],
   "source": [
    "ime = ime.strip()\n",
    "parts = ime.split()"
   ]
  },
  {
   "cell_type": "code",
   "execution_count": null,
   "metadata": {
    "collapsed": true
   },
   "outputs": [],
   "source": []
  }
 ],
 "metadata": {
  "kernelspec": {
   "display_name": "Python 3",
   "language": "python",
   "name": "python3"
  },
  "language_info": {
   "codemirror_mode": {
    "name": "ipython",
    "version": 3
   },
   "file_extension": ".py",
   "mimetype": "text/x-python",
   "name": "python",
   "nbconvert_exporter": "python",
   "pygments_lexer": "ipython3",
   "version": "3.4.3"
  }
 },
 "nbformat": 4,
 "nbformat_minor": 0
}
