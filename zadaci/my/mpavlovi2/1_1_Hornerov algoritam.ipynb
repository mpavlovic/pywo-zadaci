{
 "cells": [
  {
   "cell_type": "code",
   "execution_count": 3,
   "metadata": {
    "collapsed": true
   },
   "outputs": [],
   "source": [
    "def horner_g(x, poly):\n",
    "    \"\"\"\n",
    "    Generira prvi redak tablice Hornerovog algoritma.\n",
    "    :param x: vrijednost tocke u kojoj se zeli izracunati\n",
    "    vrijednost polinoma\n",
    "    :param poly: lista koeficijenata polinoma\n",
    "    :return: lista elemenata od kojih je zadnji clan vrijednost\n",
    "    polinoma u zadanoj tocki\n",
    "    \"\"\"\n",
    "    sum_product = 0\n",
    "    for coefficient in poly:\n",
    "        sum_product = x * sum_product + coefficient\n",
    "        yield sum_product\n"
   ]
  },
  {
   "cell_type": "code",
   "execution_count": 4,
   "metadata": {
    "collapsed": false
   },
   "outputs": [
    {
     "data": {
      "text/plain": [
       "True"
      ]
     },
     "execution_count": 4,
     "metadata": {},
     "output_type": "execute_result"
    }
   ],
   "source": [
    "[x for x in horner_g(x=2, poly=[1,2,-4,7])] == [1,4,4,15]"
   ]
  },
  {
   "cell_type": "code",
   "execution_count": 5,
   "metadata": {
    "collapsed": true
   },
   "outputs": [],
   "source": [
    "def horner_retci_g(x, poly):\n",
    "    \"\"\"\n",
    "    Generira sve redove tablice Hornerovog algoritma.\n",
    "    Koristi (gornju) funkciju za generiranje jednog reda\n",
    "    :param x: vrijednost tocke u kojoj se zeli izracunati\n",
    "    vrijednost polinoma\n",
    "    :param poly: lista koeficijenata polinoma\n",
    "    :return: lista jednog reda tablice Hornerovog algoritma\n",
    "    \"\"\"\n",
    "    while len(poly) > 0:\n",
    "        single_horner_row = [x for x in horner_g(x, poly)]\n",
    "        yield single_horner_row[:]\n",
    "        single_horner_row.pop()\n",
    "        poly = single_horner_row"
   ]
  },
  {
   "cell_type": "code",
   "execution_count": 6,
   "metadata": {
    "collapsed": false
   },
   "outputs": [
    {
     "name": "stdout",
     "output_type": "stream",
     "text": [
      "[1, 4, 4, 15]\n",
      "[1, 6, 16]\n",
      "[1, 8]\n",
      "[1]\n"
     ]
    }
   ],
   "source": [
    "for x in horner_retci_g(2, [1, 2, -4, 7]):\n",
    "    print(x)"
   ]
  }
 ],
 "metadata": {
  "kernelspec": {
   "display_name": "Python 3",
   "language": "python",
   "name": "python3"
  },
  "language_info": {
   "codemirror_mode": {
    "name": "ipython",
    "version": 3
   },
   "file_extension": ".py",
   "mimetype": "text/x-python",
   "name": "python",
   "nbconvert_exporter": "python",
   "pygments_lexer": "ipython3",
   "version": "3.4.3"
  }
 },
 "nbformat": 4,
 "nbformat_minor": 0
}
