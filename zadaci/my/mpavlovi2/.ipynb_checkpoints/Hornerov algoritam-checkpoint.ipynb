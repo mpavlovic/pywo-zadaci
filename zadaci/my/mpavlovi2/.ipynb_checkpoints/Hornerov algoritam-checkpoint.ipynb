{
 "cells": [
  {
   "cell_type": "code",
   "execution_count": 1,
   "metadata": {
    "collapsed": true
   },
   "outputs": [],
   "source": [
    "def generate_single_horner_row(point, coefficients):\n",
    "    \"\"\"\n",
    "    Generira prvi redak tablice Hornerovog algoritma.\n",
    "    :param point: vrijednost tocke u kojoj se zeli izracunati\n",
    "    vrijednost polinoma\n",
    "    :param coefficients: lista koeficijenata polinoma\n",
    "    :return: lista elemenata od kojih je zadnji clan vrijednost\n",
    "    polinoma u zadanoj tocki\n",
    "    \"\"\"\n",
    "    sum_product = 0\n",
    "    for coefficient in coefficients:\n",
    "        sum_product = point * sum_product + coefficient\n",
    "        yield sum_product\n",
    "\n",
    "\n",
    "def generate_complete_horner_table(point, coefficients):\n",
    "    \"\"\"\n",
    "    Generira sve redove tablice Hornerovog algoritma.\n",
    "    Koristi (gornju) funkciju za generiranje jednog reda\n",
    "    :param point: vrijednost tocke u kojoj se zeli izracunati\n",
    "    vrijednost polinoma\n",
    "    :param coefficients: lista koeficijenata poli\n",
    "    :return: lista jednog reda tablice Hornerovog algoritma\n",
    "    \"\"\"\n",
    "    while len(coefficients) > 0:\n",
    "        single_horner_row = [x for x in generate_single_horner_row(point, coefficients)]\n",
    "        yield single_horner_row[:]\n",
    "        single_horner_row.pop()\n",
    "        coefficients = single_horner_row"
   ]
  },
  {
   "cell_type": "code",
   "execution_count": 2,
   "metadata": {
    "collapsed": false
   },
   "outputs": [
    {
     "name": "stdout",
     "output_type": "stream",
     "text": [
      "[3, 1, 4, 1, 3, 5]\n",
      "[3, 7, 18, 37, 77]\n",
      "[3, 13, 44, 125]\n",
      "[3, 19, 82]\n",
      "[3, 25]\n",
      "[3]\n"
     ]
    }
   ],
   "source": [
    "for x in generate_complete_horner_table(2, [3, -5, 2, -7, 1, -1]):\n",
    "  print(x)"
   ]
  }
 ],
 "metadata": {
  "kernelspec": {
   "display_name": "Python 3",
   "language": "python",
   "name": "python3"
  },
  "language_info": {
   "codemirror_mode": {
    "name": "ipython",
    "version": 3
   },
   "file_extension": ".py",
   "mimetype": "text/x-python",
   "name": "python",
   "nbconvert_exporter": "python",
   "pygments_lexer": "ipython3",
   "version": "3.4.3"
  }
 },
 "nbformat": 4,
 "nbformat_minor": 0
}
