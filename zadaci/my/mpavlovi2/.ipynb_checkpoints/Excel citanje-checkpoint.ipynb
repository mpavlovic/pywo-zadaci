{
 "cells": [
  {
   "cell_type": "code",
   "execution_count": 20,
   "metadata": {
    "collapsed": false
   },
   "outputs": [
    {
     "name": "stdout",
     "output_type": "stream",
     "text": [
      "Josip Mlakar, \n",
      "\n",
      "\n",
      "Elvis Popović, \n",
      "\n",
      "\n",
      "Vladimir Milašinović, \n",
      "\n",
      "\n",
      "Filip Rafajec, \n",
      "\n",
      "\n",
      "Matej Gucek, \n",
      "\n",
      "\n",
      "Jura Šolja, \n",
      "\n",
      "\n",
      "Gabrijela Grgača, \n",
      "\n",
      "\n",
      "Stjepan Rakarec, \n",
      "\n",
      "\n",
      "Davorin Špičko, \n",
      "\n",
      "\n",
      "Milan Pavlović, \n",
      "\n",
      "\n",
      "Senko Pušec, \n",
      "\n",
      "\n",
      "Filip Aleksić, \n",
      "\n",
      "\n",
      "Roman Tomašković, \n",
      "\n",
      "\n",
      "Peđa Čačić, \n",
      "\n",
      "\n",
      "Saša Poslončec,\n",
      "\n",
      "\n",
      "Mislav Zebić, \n",
      "\n",
      "\n",
      "Ian Žonja,\n",
      "\n",
      "\n",
      "Tomislav Cundić, \n",
      "\n",
      "\n",
      "Matija Kaniški,\n",
      "\n",
      "\n",
      "Petar Šestak,\n",
      "\n",
      "\n",
      "Ivana Završki,\n",
      "\n",
      "\n",
      "Vedran Vađunec, \n",
      "\n",
      "\n",
      "Matea Bodulušić, \n",
      "\n",
      "\n",
      "Andrea Danzante,\n",
      "\n",
      "\n"
     ]
    }
   ],
   "source": [
    "import xlrd\n",
    "\n",
    "filename = \"pywo_some_data.xlsx\"\n",
    "\n",
    "workbook = xlrd.open_workbook(filename)\n",
    "sheet = workbook.sheet_by_index(0)\n",
    "\n",
    "#print(sheet.col(0))\n",
    "\n",
    "rawStudents = []\n",
    "\n",
    "for rowIndex in range(1,sheet.nrows):\n",
    "    for columnIndex in range(0, sheet.ncols):\n",
    "        cellObject = sheet.cell(rowIndex, columnIndex)\n",
    "        #print(cellObject.value)\n",
    "        rawStudents.append(cellObject.value)\n",
    "\n",
    "students = [x for x in rawStudents if x != '']\n",
    "\n",
    "def sredi(ime):\n",
    "    v = ime.strip(\", \")\n",
    "    parts = v.split()\n",
    "    return parts[::-1]\n",
    "\n",
    "P = [sredi(student) for student in students]\n",
    "\n",
    "fja_usporedbe = lambda x:x[1]\n",
    "\n",
    "S = sorted(P, fja_usporedbe)\n",
    "\n",
    "print(S)\n",
    "\n",
    "\n",
    "    \n"
   ]
  },
  {
   "cell_type": "code",
   "execution_count": null,
   "metadata": {
    "collapsed": true
   },
   "outputs": [],
   "source": [
    "Sredimo listu u format \"PREZIME IME\""
   ]
  },
  {
   "cell_type": "code",
   "execution_count": 16,
   "metadata": {
    "collapsed": true
   },
   "outputs": [],
   "source": [
    "ime = \"Josip Mlakar,\"\n",
    "\n",
    "def sredi(ime):\n",
    "    v = ime.strip()\n",
    "    parts = v.split()\n",
    "    return parts[::-1]"
   ]
  },
  {
   "cell_type": "code",
   "execution_count": 17,
   "metadata": {
    "collapsed": false
   },
   "outputs": [],
   "source": [
    "ime = ime.strip()\n",
    "parts = ime.split()"
   ]
  },
  {
   "cell_type": "code",
   "execution_count": null,
   "metadata": {
    "collapsed": true
   },
   "outputs": [],
   "source": []
  }
 ],
 "metadata": {
  "kernelspec": {
   "display_name": "Python 3",
   "language": "python",
   "name": "python3"
  },
  "language_info": {
   "codemirror_mode": {
    "name": "ipython",
    "version": 3
   },
   "file_extension": ".py",
   "mimetype": "text/x-python",
   "name": "python",
   "nbconvert_exporter": "python",
   "pygments_lexer": "ipython3",
   "version": "3.4.3"
  }
 },
 "nbformat": 4,
 "nbformat_minor": 0
}
