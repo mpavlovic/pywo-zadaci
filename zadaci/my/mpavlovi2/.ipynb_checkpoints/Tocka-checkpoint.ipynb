{
 "cells": [
  {
   "cell_type": "code",
   "execution_count": 14,
   "metadata": {
    "collapsed": false
   },
   "outputs": [],
   "source": [
    "#%%writefile ravnina.py\n",
    "\n",
    "from math import sqrt\n",
    "\n",
    "class Tocka(object):\n",
    "    \"\"\"\n",
    "    Opis klase.\n",
    "    2 - dim tocke u ravnini\n",
    "    \"\"\"\n",
    "    \n",
    "    def __init__(self, x, y):\n",
    "        self.x = x\n",
    "        self.y = y\n",
    "        \n",
    "    def __repr__(self):\n",
    "        return \"Tocka({0},{1})\".format(self.x, self.y)\n",
    "    \n",
    "    def norm(self):\n",
    "        return sqrt(self.x**2 + self.y**2)\n",
    "\n",
    "class Vector(Tocka):\n",
    "    \n",
    "    def __repr__(self):\n",
    "        return \"Vector({0},{1})\".format(self.x, self.y)\n",
    "    \n",
    "    def __add__(self, b):\n",
    "        return Vector(self.x + b.x, self.y + b.y)\n",
    "    \n",
    "    def __sub__(self, b):\n",
    "        return Vector(self.x - b.x, self.y - b.y)\n",
    "    \n",
    "    def __mul__(self, b):\n",
    "        return Vector(self.x * b, self.y * b)\n",
    "    \n",
    "    def __rmul__(self, b):\n",
    "        return Vector(self.x * b, self.y * b)\n",
    "    "
   ]
  },
  {
   "cell_type": "code",
   "execution_count": 53,
   "metadata": {
    "collapsed": false
   },
   "outputs": [
    {
     "data": {
      "text/plain": [
       "type"
      ]
     },
     "execution_count": 53,
     "metadata": {},
     "output_type": "execute_result"
    }
   ],
   "source": [
    "type(Tocka)"
   ]
  },
  {
   "cell_type": "code",
   "execution_count": 54,
   "metadata": {
    "collapsed": false
   },
   "outputs": [
    {
     "data": {
      "text/plain": [
       "2.23606797749979"
      ]
     },
     "execution_count": 54,
     "metadata": {},
     "output_type": "execute_result"
    }
   ],
   "source": [
    "a = Tocka(1,2)\n",
    "a.norm()"
   ]
  },
  {
   "cell_type": "code",
   "execution_count": 15,
   "metadata": {
    "collapsed": false
   },
   "outputs": [
    {
     "name": "stdout",
     "output_type": "stream",
     "text": [
      "Vector(0,-1)\n",
      "Vector(-2,-5)\n",
      "Vector(-2,-6)\n"
     ]
    }
   ],
   "source": [
    "a = Vector(-1,-3)\n",
    "b = Vector(1,2)\n",
    "c = a + b\n",
    "d = a - b\n",
    "e = 2 * a * 3\n",
    "print(c)\n",
    "print(d)\n",
    "print(e)"
   ]
  },
  {
   "cell_type": "markdown",
   "metadata": {},
   "source": [
    "Zelim jos oduzimanje, mnozenje skalarom."
   ]
  }
 ],
 "metadata": {
  "kernelspec": {
   "display_name": "Python 3",
   "language": "python",
   "name": "python3"
  },
  "language_info": {
   "codemirror_mode": {
    "name": "ipython",
    "version": 3
   },
   "file_extension": ".py",
   "mimetype": "text/x-python",
   "name": "python",
   "nbconvert_exporter": "python",
   "pygments_lexer": "ipython3",
   "version": "3.4.3"
  }
 },
 "nbformat": 4,
 "nbformat_minor": 0
}
