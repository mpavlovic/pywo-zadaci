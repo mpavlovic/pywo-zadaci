{
 "cells": [
  {
   "cell_type": "code",
   "execution_count": 17,
   "metadata": {
    "collapsed": false
   },
   "outputs": [
    {
     "name": "stdout",
     "output_type": "stream",
     "text": [
      "Overwriting ravnina.py\n"
     ]
    }
   ],
   "source": [
    "#%%writefile ravnina.py\n",
    "\n",
    "from math import sqrt\n",
    "import types\n",
    "\n",
    "class Tocka(object):\n",
    "    \"\"\"\n",
    "    Opis klase.\n",
    "    2 - dim tocke u ravnini\n",
    "    \"\"\"\n",
    "\n",
    "    def __init__(self, x, y):\n",
    "        self.x = x\n",
    "        self.y = y\n",
    "        \n",
    "    def __repr__(self):\n",
    "        return \"Tocka({0},{1})\".format(self.x, self.y)\n",
    "    \n",
    "    def norm(self):\n",
    "        return sqrt(self.x**2 + self.y**2)\n",
    "\n",
    "class Vector(Tocka):\n",
    "    \n",
    "    def __repr__(self):\n",
    "        return \"({0},{1})\".format(self.x, self.y)\n",
    "    \n",
    "    def __add__(self, b):\n",
    "        return Vector(self.x + b.x, self.y + b.y)\n",
    "    \n",
    "    def __sub__(self, b):\n",
    "        return Vector(self.x - b.x, self.y - b.y)\n",
    "    \n",
    "    def __mul__(self, b):\n",
    "        if isinstance(b, int):\n",
    "            return Vector(self.x * b, self.y * b)\n",
    "        elif isinstance(b, Vector):\n",
    "            return self.x * b.x + self.y * b.y\n",
    "        else:\n",
    "            print(\"Operacija nije podrzana.\")\n",
    "            return 0\n",
    "    \n",
    "    def __rmul__(self, b):\n",
    "        if isinstance(b, int):\n",
    "            return Vector(self.x * b, self.y * b)\n",
    "        elif isinstance(b, Vector):\n",
    "            return self.x * b.x + self.y * b.y\n",
    "        else:\n",
    "            print(\"Operacija nije podrzana.\")\n",
    "            return 0\n",
    "    "
   ]
  },
  {
   "cell_type": "code",
   "execution_count": 53,
   "metadata": {
    "collapsed": false
   },
   "outputs": [
    {
     "data": {
      "text/plain": [
       "type"
      ]
     },
     "execution_count": 53,
     "metadata": {},
     "output_type": "execute_result"
    }
   ],
   "source": [
    "type(Tocka)"
   ]
  },
  {
   "cell_type": "code",
   "execution_count": 54,
   "metadata": {
    "collapsed": false
   },
   "outputs": [
    {
     "data": {
      "text/plain": [
       "2.23606797749979"
      ]
     },
     "execution_count": 54,
     "metadata": {},
     "output_type": "execute_result"
    }
   ],
   "source": [
    "a = Tocka(1,2)\n",
    "a.norm()"
   ]
  },
  {
   "cell_type": "code",
   "execution_count": 16,
   "metadata": {
    "collapsed": false
   },
   "outputs": [
    {
     "name": "stdout",
     "output_type": "stream",
     "text": [
      "(0,-1)\n",
      "(-2,-5)\n",
      "(-2,-6)\n",
      "56\n"
     ]
    }
   ],
   "source": [
    "a = Vector(-1,-3)\n",
    "b = Vector(1,2)\n",
    "c = a + b\n",
    "d = a - b\n",
    "e = 2 * a\n",
    "#f = 4a # ne radi ?\n",
    "print(c)\n",
    "print(d)\n",
    "print(e)\n",
    "print(Vector(1,2)*Vector(-12,34))"
   ]
  },
  {
   "cell_type": "markdown",
   "metadata": {},
   "source": [
    "Zelim jos oduzimanje, mnozenje skalarom."
   ]
  },
  {
   "cell_type": "code",
   "execution_count": 1,
   "metadata": {
    "collapsed": false
   },
   "outputs": [
    {
     "name": "stdout",
     "output_type": "stream",
     "text": [
      "Writing rr.py\n"
     ]
    }
   ],
   "source": [
    "#%%writefile rr.py\n",
    "\n",
    "__author__ = 'Milan'\n",
    "\n",
    "import argparse\n",
    "from ravnina import *\n",
    "\n",
    "\n",
    "def kreiraj_vektor(arg):\n",
    "    clean = arg.strip()\n",
    "    clean = clean.strip(\"(\")\n",
    "    clean = clean.strip(\")\")\n",
    "    parts = clean.split(\",\")\n",
    "    return Vector(int(parts[0]), int(parts[1]))\n",
    "\n",
    "\n",
    "parser = argparse.ArgumentParser(description=\"Program zbraja i oduzima vektore.\")\n",
    "\n",
    "parser.add_argument(\"--add\", nargs=2,\n",
    "                    help=\"Zbraja dva vektora formata (x,y) i ispisuje njihov zbroj\")\n",
    "parser.add_argument(\"--sub\", nargs=2,\n",
    "                    help=\"Oduzima dva vektora formata (x,y) i ispisuje njihovu razliku\")\n",
    "parser.add_argument(\"--verbose\", action=\"store_true\",\n",
    "                    help=\"Ispisuje prikladne poruke uz rezultate\")\n",
    "parser.add_argument(\"--debug\", action=\"store_true\",\n",
    "                    help=\"Ispisuje detaljne poruke iznimki\")\n",
    "\n",
    "args = parser.parse_args()\n",
    "\n",
    "if args.debug:\n",
    "    print(\"Debug je ukljucen.\")\n",
    "\n",
    "if args.add:\n",
    "    try:\n",
    "        vectors = args.add\n",
    "        a = kreiraj_vektor(vectors[0])\n",
    "        b = kreiraj_vektor(vectors[1])\n",
    "        c = a + b\n",
    "        if args.verbose:\n",
    "            print(\"Zbroj vektora {} i {} je vektor \".format(a, b), end=\"\")\n",
    "        print(c)\n",
    "\n",
    "    except Exception as ex:\n",
    "        if args.debug:\n",
    "            print(ex)\n",
    "        else:\n",
    "            print(\"Doslo je do pogreske. Za vise informacija pokrenite program s opcijom --debug.\")\n",
    "\n",
    "elif args.sub:\n",
    "    try:\n",
    "        vectors = args.sub\n",
    "        a = kreiraj_vektor(vectors[0])\n",
    "        b = kreiraj_vektor(vectors[1])\n",
    "        c = a - b\n",
    "        if args.verbose:\n",
    "            print(\"Razlika vektora {} i {} je vektor \".format(a, b), end=\"\")\n",
    "        print(c)\n",
    "\n",
    "    except Exception as ex:\n",
    "        if args.debug:\n",
    "            print(ex)\n",
    "        else:\n",
    "            print(\"Doslo je do pogreske. Za vise informacija pokrenite program s opcijom --debug.\")"
   ]
  }
 ],
 "metadata": {
  "kernelspec": {
   "display_name": "Python 3",
   "language": "python",
   "name": "python3"
  },
  "language_info": {
   "codemirror_mode": {
    "name": "ipython",
    "version": 3
   },
   "file_extension": ".py",
   "mimetype": "text/x-python",
   "name": "python",
   "nbconvert_exporter": "python",
   "pygments_lexer": "ipython3",
   "version": "3.4.3"
  }
 },
 "nbformat": 4,
 "nbformat_minor": 0
}
