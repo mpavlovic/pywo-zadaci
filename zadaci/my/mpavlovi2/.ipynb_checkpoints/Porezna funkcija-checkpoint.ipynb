{
 "cells": [
  {
   "cell_type": "code",
   "execution_count": 10,
   "metadata": {
    "collapsed": true
   },
   "outputs": [],
   "source": [
    "stope = (0.1, 0.2)\n",
    "limiti = (100000, None)"
   ]
  },
  {
   "cell_type": "code",
   "execution_count": 11,
   "metadata": {
    "collapsed": true
   },
   "outputs": [],
   "source": [
    "stope = (0.1, 0.2, 0.3)\n",
    "limiti = (100000,200000,None)"
   ]
  },
  {
   "cell_type": "code",
   "execution_count": 49,
   "metadata": {
    "collapsed": false
   },
   "outputs": [
    {
     "name": "stderr",
     "output_type": "stream",
     "text": [
      "WARNING:root:Ovo je warning level info\n",
      "ERROR:root:Ovo je error level info\n",
      "CRITICAL:root:Ovo je warning level info\n"
     ]
    }
   ],
   "source": [
    "import pdb\n",
    "import logging\n",
    "\n",
    "logging.basicConfig(level = logging.DEBUG)\n",
    "\n",
    "logging.debug(\"Ovo je debug level info\")\n",
    "logging.info(\"Ovo je info level info\")\n",
    "logging.warning(\"Ovo je warning level info\")\n",
    "logging.error(\"Ovo je error level info\")\n",
    "logging.critical(\"Ovo je warning level info\")"
   ]
  },
  {
   "cell_type": "code",
   "execution_count": 44,
   "metadata": {
    "collapsed": true
   },
   "outputs": [],
   "source": [
    "def is_in_interval(x, interval):\n",
    "    l, d = interval\n",
    "    if d:\n",
    "        return (l <= x) and (x < d) \n",
    "    else:\n",
    "        return (l <= x)\n",
    "\n",
    "def make_porezna_func(stope, limiti):\n",
    "    \"\"\"Vraca poreznu fiju p(x) koja racuna porez na dohodak x.\"\"\"\n",
    "    \n",
    "    pi_lista = []\n",
    "    \n",
    "    last_limit = 0\n",
    "    nul_fja = lambda x: 0\n",
    "    last_pi = nul_fja\n",
    "    \n",
    "    i=0\n",
    "    for s,l in zip(stope, limiti):\n",
    "        \n",
    "        def pi(x, last_limit=last_limit, last_pi=last_pi, s=s):\n",
    "            v = last_pi(last_limit) + s*(x-last_limit)\n",
    "            return v\n",
    "        \n",
    "        #if(i==1):\n",
    "            #pdb.set_trace()\n",
    "    \n",
    "        last_limit, last_pi = l, pi\n",
    "        pi_lista.append(pi)\n",
    "        \n",
    "        i+=1\n",
    "        \n",
    "    b = list(limiti)\n",
    "    b.insert(0,0)\n",
    "    \n",
    "    intervali = zip(b, b[1:])\n",
    "    logging.warning(\"Ovo je warning\")\n",
    "        \n",
    "    def tmp_func(x, intervali=intervali, pi_lista=pi_lista):\n",
    "        #primijeni odgovarajuci pi ovisno o x-u (u kojem se intervalu nalazi)\n",
    "        for intvl, p in zip(intervali, pi_lista):\n",
    "            if is_in_interval(x, intvl):\n",
    "                return p(x)\n",
    "\n",
    "    return tmp_func\n"
   ]
  },
  {
   "cell_type": "code",
   "execution_count": 7,
   "metadata": {
    "collapsed": false
   },
   "outputs": [
    {
     "name": "stdout",
     "output_type": "stream",
     "text": [
      "Stopa 0.1 do 100000\n",
      "Stopa 0.2 do None\n"
     ]
    }
   ],
   "source": [
    "for s, l in zip(stope, limiti):\n",
    "    print(\"Stopa {0} do {1}\".format(s, l))"
   ]
  },
  {
   "cell_type": "code",
   "execution_count": 45,
   "metadata": {
    "collapsed": false
   },
   "outputs": [
    {
     "name": "stderr",
     "output_type": "stream",
     "text": [
      "WARNING:root:Ovo je warning\n"
     ]
    }
   ],
   "source": [
    "p = make_porezna_func(stope, limiti)"
   ]
  },
  {
   "cell_type": "code",
   "execution_count": 42,
   "metadata": {
    "collapsed": false
   },
   "outputs": [
    {
     "data": {
      "text/plain": [
       "(False, False, False)"
      ]
     },
     "execution_count": 42,
     "metadata": {},
     "output_type": "execute_result"
    }
   ],
   "source": [
    "p(1000)==100, p(100000)==1000, p(15000)==2000"
   ]
  },
  {
   "cell_type": "code",
   "execution_count": 20,
   "metadata": {
    "collapsed": false
   },
   "outputs": [
    {
     "data": {
      "text/plain": [
       "[(0, 10), (10, 20), (20, 30), (30, None)]"
      ]
     },
     "execution_count": 20,
     "metadata": {},
     "output_type": "execute_result"
    }
   ],
   "source": [
    "a = (10,20,30)\n",
    "b = list(a)\n",
    "b.append(None)\n",
    "b.insert(0,0)\n",
    "list(zip(b, b[1:]))\n",
    "#r = ((0,10), (10,20), (20,30), (30, None))"
   ]
  },
  {
   "cell_type": "code",
   "execution_count": 27,
   "metadata": {
    "collapsed": false
   },
   "outputs": [
    {
     "data": {
      "text/plain": [
       "False"
      ]
     },
     "execution_count": 27,
     "metadata": {},
     "output_type": "execute_result"
    }
   ],
   "source": [
    "is_in_interval(-10, (0,100))"
   ]
  }
 ],
 "metadata": {
  "kernelspec": {
   "display_name": "Python 3",
   "language": "python",
   "name": "python3"
  },
  "language_info": {
   "codemirror_mode": {
    "name": "ipython",
    "version": 3
   },
   "file_extension": ".py",
   "mimetype": "text/x-python",
   "name": "python",
   "nbconvert_exporter": "python",
   "pygments_lexer": "ipython3",
   "version": "3.4.3"
  }
 },
 "nbformat": 4,
 "nbformat_minor": 0
}
