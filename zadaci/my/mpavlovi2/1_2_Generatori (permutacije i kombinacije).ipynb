{
 "cells": [
  {
   "cell_type": "code",
   "execution_count": 36,
   "metadata": {
    "collapsed": true
   },
   "outputs": [],
   "source": [
    "import itertools"
   ]
  },
  {
   "cell_type": "code",
   "execution_count": 37,
   "metadata": {
    "collapsed": true
   },
   "outputs": [],
   "source": [
    "def print_permutations(my_list, list_size):\n",
    "    \"\"\"\n",
    "    Ispisuje sve permutacije u zadanoj listi\n",
    "    pomocu Heapovog algoritma.\n",
    "    :param my_list: lista elemenata\n",
    "    :param list_size: broj elemenata liste, \n",
    "    smanjuje se u rekurzivnim pozivima unatoč \n",
    "    stalnoj veličini liste\n",
    "    \"\"\"\n",
    "    if list_size == 1:\n",
    "        print(my_list)\n",
    "    else:\n",
    "        for i in range(list_size - 1):\n",
    "            print_permutations(my_list, list_size - 1)\n",
    "            j = i if list_size % 2 == 0 else 0\n",
    "            my_list[j], my_list[list_size - 1] = my_list[list_size - 1], my_list[j]\n",
    "        print_permutations(my_list, list_size - 1)"
   ]
  },
  {
   "cell_type": "code",
   "execution_count": 38,
   "metadata": {
    "collapsed": false
   },
   "outputs": [
    {
     "name": "stdout",
     "output_type": "stream",
     "text": [
      "[1, 2, 3, 4]\n",
      "[2, 1, 3, 4]\n",
      "[3, 1, 2, 4]\n",
      "[1, 3, 2, 4]\n",
      "[2, 3, 1, 4]\n",
      "[3, 2, 1, 4]\n",
      "[4, 2, 1, 3]\n",
      "[2, 4, 1, 3]\n",
      "[1, 4, 2, 3]\n",
      "[4, 1, 2, 3]\n",
      "[2, 1, 4, 3]\n",
      "[1, 2, 4, 3]\n",
      "[1, 3, 4, 2]\n",
      "[3, 1, 4, 2]\n",
      "[4, 1, 3, 2]\n",
      "[1, 4, 3, 2]\n",
      "[3, 4, 1, 2]\n",
      "[4, 3, 1, 2]\n",
      "[4, 3, 2, 1]\n",
      "[3, 4, 2, 1]\n",
      "[2, 4, 3, 1]\n",
      "[4, 2, 3, 1]\n",
      "[3, 2, 4, 1]\n",
      "[2, 3, 4, 1]\n"
     ]
    }
   ],
   "source": [
    "my_list = [1, 2, 3, 4]\n",
    "print_permutations(my_list, len(my_list))"
   ]
  },
  {
   "cell_type": "code",
   "execution_count": 39,
   "metadata": {
    "collapsed": true
   },
   "outputs": [],
   "source": [
    "def generate_permutations(list, listSize):\n",
    "    \"\"\"\n",
    "    Generator svih permutacija zadane liste.\n",
    "    :param list: lista\n",
    "    :param listSize: broj elemenata liste\n",
    "    \"\"\"\n",
    "    if listSize == 1:\n",
    "        yield list\n",
    "    else:\n",
    "        for i in range(listSize - 1):\n",
    "            for permutation in generate_permutations(list, listSize - 1):\n",
    "                yield permutation\n",
    "            j = i if listSize % 2 == 0 else 0\n",
    "            list[j], list[listSize - 1] = list[listSize - 1], list[j]\n",
    "\n",
    "        for permutation in generate_permutations(list, listSize - 1):\n",
    "            yield permutation"
   ]
  },
  {
   "cell_type": "code",
   "execution_count": 40,
   "metadata": {
    "collapsed": false,
    "scrolled": false
   },
   "outputs": [
    {
     "name": "stdout",
     "output_type": "stream",
     "text": [
      "[2, 3, 4, 1]\n",
      "[3, 2, 4, 1]\n",
      "[4, 2, 3, 1]\n",
      "[2, 4, 3, 1]\n",
      "[3, 4, 2, 1]\n",
      "[4, 3, 2, 1]\n",
      "[1, 3, 2, 4]\n",
      "[3, 1, 2, 4]\n",
      "[2, 1, 3, 4]\n",
      "[1, 2, 3, 4]\n",
      "[3, 2, 1, 4]\n",
      "[2, 3, 1, 4]\n",
      "[2, 4, 1, 3]\n",
      "[4, 2, 1, 3]\n",
      "[1, 2, 4, 3]\n",
      "[2, 1, 4, 3]\n",
      "[4, 1, 2, 3]\n",
      "[1, 4, 2, 3]\n",
      "[1, 4, 3, 2]\n",
      "[4, 1, 3, 2]\n",
      "[3, 1, 4, 2]\n",
      "[1, 3, 4, 2]\n",
      "[4, 3, 1, 2]\n",
      "[3, 4, 1, 2]\n",
      "Broj permutacija:  24\n"
     ]
    }
   ],
   "source": [
    "count = 0\n",
    "for x in generate_permutations(my_list, len(my_list)):\n",
    "    print(x)\n",
    "    count += 1\n",
    "print(\"Broj permutacija: \", count)"
   ]
  },
  {
   "cell_type": "code",
   "execution_count": 41,
   "metadata": {
    "collapsed": true
   },
   "outputs": [],
   "source": [
    "def permutations_iter(list):\n",
    "    \"\"\"\n",
    "    Generiator permutacija pomocu itertoolsa\n",
    "    :param list: lista koja se zeli pemutirati\n",
    "    :return: tuple jedne permutacije\n",
    "    \"\"\"\n",
    "    for perm in itertools.permutations(list):\n",
    "        yield perm"
   ]
  },
  {
   "cell_type": "code",
   "execution_count": 42,
   "metadata": {
    "collapsed": false
   },
   "outputs": [
    {
     "name": "stdout",
     "output_type": "stream",
     "text": [
      "(1, 2, 3, 4)\n",
      "(1, 2, 4, 3)\n",
      "(1, 3, 2, 4)\n",
      "(1, 3, 4, 2)\n",
      "(1, 4, 2, 3)\n",
      "(1, 4, 3, 2)\n",
      "(2, 1, 3, 4)\n",
      "(2, 1, 4, 3)\n",
      "(2, 3, 1, 4)\n",
      "(2, 3, 4, 1)\n",
      "(2, 4, 1, 3)\n",
      "(2, 4, 3, 1)\n",
      "(3, 1, 2, 4)\n",
      "(3, 1, 4, 2)\n",
      "(3, 2, 1, 4)\n",
      "(3, 2, 4, 1)\n",
      "(3, 4, 1, 2)\n",
      "(3, 4, 2, 1)\n",
      "(4, 1, 2, 3)\n",
      "(4, 1, 3, 2)\n",
      "(4, 2, 1, 3)\n",
      "(4, 2, 3, 1)\n",
      "(4, 3, 1, 2)\n",
      "(4, 3, 2, 1)\n"
     ]
    }
   ],
   "source": [
    "for x in permutations_iter([1,2,3,4]):\n",
    "    print(x)"
   ]
  },
  {
   "cell_type": "code",
   "execution_count": 43,
   "metadata": {
    "collapsed": true
   },
   "outputs": [],
   "source": [
    "def create_combinations(my_list, list_size, combination_size):\n",
    "    \"\"\"\n",
    "    Funkcija kreira listu ciji elementi su\n",
    "    kombinacije bez ponavljanja, zelejnog broja clanova\n",
    "    iz zadane liste.\n",
    "    :param my_list: zadana lista\n",
    "    :param list_size: broj elemenata zadane liste\n",
    "    :param combination_size: broj elemenata jedne kombinacije\n",
    "    :return: lista svih kombinacija\n",
    "    \"\"\"\n",
    "    if combination_size == list_size:\n",
    "        return [my_list]\n",
    "\n",
    "    combinations = []\n",
    "\n",
    "    if combination_size == 1:\n",
    "        for i in range(list_size):\n",
    "            combinations.append([my_list[i]])\n",
    "    else:\n",
    "        sub_combinations = create_combinations(my_list, list_size, combination_size-1)\n",
    "        for sub_combination in sub_combinations:\n",
    "            last_index = my_list.index(sub_combination[-1])\n",
    "            for i in range(last_index + 1, list_size):\n",
    "                combination = sub_combination[:]\n",
    "                combination.append(my_list[i])\n",
    "                combinations.append(combination)\n",
    "\n",
    "    return combinations"
   ]
  },
  {
   "cell_type": "code",
   "execution_count": 44,
   "metadata": {
    "collapsed": false
   },
   "outputs": [
    {
     "data": {
      "text/plain": [
       "[[3, 4, 1], [3, 4, 2], [3, 1, 2], [4, 1, 2]]"
      ]
     },
     "execution_count": 44,
     "metadata": {},
     "output_type": "execute_result"
    }
   ],
   "source": [
    "create_combinations(my_list, len(my_list), 3)"
   ]
  },
  {
   "cell_type": "code",
   "execution_count": 45,
   "metadata": {
    "collapsed": true
   },
   "outputs": [],
   "source": [
    "def generate_combinations(my_list, list_size, combination_size):\n",
    "    \"\"\"\n",
    "    Generator koji pri svakom pozivu vraca jednu od svih mogucih\n",
    "    kombinacija bez ponavljanja s elementima zadane liste.\n",
    "    :param my_list: zadana lista\n",
    "    :param list_size: broj elemenata zadane liste\n",
    "    :param combination_size: broj elemenata jedne kombinacije\n",
    "    :return: jedna kombinacija\n",
    "    \"\"\"\n",
    "    if combination_size == list_size:\n",
    "        yield [my_list]\n",
    "\n",
    "    if combination_size == 1:\n",
    "        for i in range(list_size):\n",
    "            yield my_list[i]\n",
    "    else:\n",
    "        for sub_combination in create_combinations(my_list, list_size, combination_size-1):\n",
    "            last_index = my_list.index(sub_combination[-1])\n",
    "            for i in range(last_index + 1, list_size):\n",
    "                combination = sub_combination[:]\n",
    "                combination.append(my_list[i])\n",
    "                yield combination"
   ]
  },
  {
   "cell_type": "code",
   "execution_count": 46,
   "metadata": {
    "collapsed": false
   },
   "outputs": [
    {
     "name": "stdout",
     "output_type": "stream",
     "text": [
      "[3, 4, 1]\n",
      "[3, 4, 2]\n",
      "[3, 1, 2]\n",
      "[4, 1, 2]\n",
      "Broj kombinacija:  4\n"
     ]
    }
   ],
   "source": [
    "count = 0\n",
    "for combination in generate_combinations(my_list, len(my_list), 3):\n",
    "    print(combination)\n",
    "    count += 1\n",
    "print(\"Broj kombinacija: \", count)"
   ]
  },
  {
   "cell_type": "code",
   "execution_count": 47,
   "metadata": {
    "collapsed": true
   },
   "outputs": [],
   "source": [
    "def combinations_iter(list, r):\n",
    "    \"\"\"\n",
    "    Generator kombinacija bez ponavljanja pomocu itertoolsa.\n",
    "    :param list: lista cije kombinacije elemenata zelimo\n",
    "    :param r: broj elemenata kombinacije\n",
    "    :return: tuple jedne r-clane kombinacije\n",
    "    \"\"\"\n",
    "    for combination in itertools.combinations(list, r):\n",
    "        yield combination"
   ]
  },
  {
   "cell_type": "code",
   "execution_count": 49,
   "metadata": {
    "collapsed": false
   },
   "outputs": [
    {
     "name": "stdout",
     "output_type": "stream",
     "text": [
      "(3, 4, 1)\n",
      "(3, 4, 2)\n",
      "(3, 1, 2)\n",
      "(4, 1, 2)\n"
     ]
    }
   ],
   "source": [
    "for comb in combinations_iter(my_list, 3):\n",
    "    print(comb)"
   ]
  }
 ],
 "metadata": {
  "kernelspec": {
   "display_name": "Python 3",
   "language": "python",
   "name": "python3"
  },
  "language_info": {
   "codemirror_mode": {
    "name": "ipython",
    "version": 3
   },
   "file_extension": ".py",
   "mimetype": "text/x-python",
   "name": "python",
   "nbconvert_exporter": "python",
   "pygments_lexer": "ipython3",
   "version": "3.4.3"
  }
 },
 "nbformat": 4,
 "nbformat_minor": 0
}
