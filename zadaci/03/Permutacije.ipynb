{
 "cells": [
  {
   "cell_type": "markdown",
   "metadata": {},
   "source": [
    "a) Ispisati permutacije skupa $\\{1,2,3,4\\}$\n",
    "\n",
    "b) Koliko ih ima\n",
    "\n",
    "c) Napraviti generator za a)\n",
    "\n",
    "d) Napraviti generator pomoću modula itertools\n",
    "\n",
    "e) DZ, vjezba - napraviti generator koji ispisuje $k$-kombinacije $n$-članog skupa\n",
    "```python\n",
    "\n",
    "def i_komb(skup, k):\n",
    "    # TODO\n",
    "```"
   ]
  },
  {
   "cell_type": "code",
   "execution_count": null,
   "metadata": {
    "collapsed": true
   },
   "outputs": [],
   "source": [
    "def perm_gen():\n",
    "    \"\"\"\n",
    "    Generator za 4-permutacije.\n",
    "    \"\"\"\n",
    "    \n",
    "    #\n",
    "    #\n",
    "    # Neka je L lista ili n-torka u kojoj je zapisana\n",
    "    # trenutna permutacija\n",
    "    \n",
    "    \n",
    "    yield L\n",
    "    "
   ]
  },
  {
   "cell_type": "code",
   "execution_count": 1,
   "metadata": {
    "collapsed": true
   },
   "outputs": [],
   "source": [
    "#Test za perm_gen()\n",
    "\n",
    "import itertools\n",
    "\n",
    "\n",
    "def itertools_perm_gen():\n",
    "    "
   ]
  },
  {
   "cell_type": "code",
   "execution_count": 3,
   "metadata": {
    "collapsed": false
   },
   "outputs": [
    {
     "data": {
      "text/plain": [
       "[('1', '2', '3', '4'),\n",
       " ('1', '2', '4', '3'),\n",
       " ('1', '3', '2', '4'),\n",
       " ('1', '3', '4', '2'),\n",
       " ('1', '4', '2', '3'),\n",
       " ('1', '4', '3', '2'),\n",
       " ('2', '1', '3', '4'),\n",
       " ('2', '1', '4', '3'),\n",
       " ('2', '3', '1', '4'),\n",
       " ('2', '3', '4', '1'),\n",
       " ('2', '4', '1', '3'),\n",
       " ('2', '4', '3', '1'),\n",
       " ('3', '1', '2', '4'),\n",
       " ('3', '1', '4', '2'),\n",
       " ('3', '2', '1', '4'),\n",
       " ('3', '2', '4', '1'),\n",
       " ('3', '4', '1', '2'),\n",
       " ('3', '4', '2', '1'),\n",
       " ('4', '1', '2', '3'),\n",
       " ('4', '1', '3', '2'),\n",
       " ('4', '2', '1', '3'),\n",
       " ('4', '2', '3', '1'),\n",
       " ('4', '3', '1', '2'),\n",
       " ('4', '3', '2', '1')]"
      ]
     },
     "execution_count": 3,
     "metadata": {},
     "output_type": "execute_result"
    }
   ],
   "source": [
    "[p for p in itertools.permutations(\"1234\")]"
   ]
  },
  {
   "cell_type": "markdown",
   "metadata": {},
   "source": [
    "```python\n",
    "for p in itertools.permutations(\"1234\"):\n",
    "    yield p\n",
    "```\n",
    "    \n",
    "yield from itertools.permutations(\"1234\")"
   ]
  }
 ],
 "metadata": {
  "kernelspec": {
   "display_name": "Python 3",
   "language": "python",
   "name": "python3"
  },
  "language_info": {
   "codemirror_mode": {
    "name": "ipython",
    "version": 3
   },
   "file_extension": ".py",
   "mimetype": "text/x-python",
   "name": "python",
   "nbconvert_exporter": "python",
   "pygments_lexer": "ipython3",
   "version": "3.4.3+"
  }
 },
 "nbformat": 4,
 "nbformat_minor": 0
}
