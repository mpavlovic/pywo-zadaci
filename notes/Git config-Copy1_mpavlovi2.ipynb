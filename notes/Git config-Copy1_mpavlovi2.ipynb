{
 "cells": [
  {
   "cell_type": "markdown",
   "metadata": {},
   "source": [
    "# Slaganje git konfiguracije\n",
    "\n",
    "vidi link:\n",
    "https://git-scm.com/book/en/v2/Customizing-Git-Git-Configuration\n",
    "\n",
    "Da bi uopće mogli napraviti ```git commit``` moramo git-u dati podatke pod kojima\n",
    "će evidentirati naše promjene u projektu.\n",
    "```\n",
    "git config --global user.name=\"Ivan Ivanović\"\n",
    "git config --global user.email=vas_username@gmail.com\n",
    "```\n"
   ]
  },
  {
   "cell_type": "code",
   "execution_count": 54,
   "metadata": {
    "collapsed": false
   },
   "outputs": [
    {
     "name": "stdout",
     "output_type": "stream",
     "text": [
      " user.name: Marcel Maretic\n",
      "user.email: marcelix@gmail.com\n"
     ]
    }
   ],
   "source": [
    "user_name = input(\" user.name: \")\n",
    "user_email= input(\"user.email: \")"
   ]
  },
  {
   "cell_type": "code",
   "execution_count": 61,
   "metadata": {
    "collapsed": false
   },
   "outputs": [
    {
     "name": "stdout",
     "output_type": "stream",
     "text": [
      "user.name=Marcel Maretic\r\n",
      "user.email=marcelix@gmail.com\r\n",
      "push.default=simple\r\n"
     ]
    }
   ],
   "source": [
    "!git config --global user.name  \"$user_name\"\n",
    "!git config --global user.email  \"$user_email\"\n",
    "\n",
    "# ispisi trenutni sadrzaj globalne konfiguracije\n",
    "!git config --global -l"
   ]
  },
  {
   "cell_type": "code",
   "execution_count": 49,
   "metadata": {
    "collapsed": false
   },
   "outputs": [
    {
     "name": "stdout",
     "output_type": "stream",
     "text": [
      "Variable     Type    Data/Info\n",
      "------------------------------\n",
      "user_email   str     marcelix@gmail.com\n",
      "user_name    str     Marcel Maretić\n"
     ]
    }
   ],
   "source": [
    "%whos"
   ]
  },
  {
   "cell_type": "code",
   "execution_count": 1,
   "metadata": {
    "collapsed": false
   },
   "outputs": [
    {
     "data": {
      "text/plain": [
       "{'In': ['', 'locals()'],\n",
       " 'Out': {},\n",
       " '_': '',\n",
       " '__': '',\n",
       " '___': '',\n",
       " '__builtin__': <module 'builtins' (built-in)>,\n",
       " '__builtins__': <module 'builtins' (built-in)>,\n",
       " '__doc__': 'Automatically created module for IPython interactive environment',\n",
       " '__loader__': None,\n",
       " '__name__': '__main__',\n",
       " '__package__': None,\n",
       " '__spec__': None,\n",
       " '_dh': ['E:\\\\pywo-zadaci\\\\notes'],\n",
       " '_i': '',\n",
       " '_i1': 'locals()',\n",
       " '_ih': ['', 'locals()'],\n",
       " '_ii': '',\n",
       " '_iii': '',\n",
       " '_oh': {},\n",
       " '_sh': <module 'IPython.core.shadowns' from 'e:\\\\python 3.4\\\\lib\\\\site-packages\\\\IPython\\\\core\\\\shadowns.py'>,\n",
       " 'exit': <IPython.core.autocall.ZMQExitAutocall at 0x3c59b10>,\n",
       " 'get_ipython': <bound method ZMQInteractiveShell.get_ipython of <ipykernel.zmqshell.ZMQInteractiveShell object at 0x03C39810>>,\n",
       " 'quit': <IPython.core.autocall.ZMQExitAutocall at 0x3c59b10>}"
      ]
     },
     "execution_count": 1,
     "metadata": {},
     "output_type": "execute_result"
    }
   ],
   "source": [
    "locals()"
   ]
  },
  {
   "cell_type": "code",
   "execution_count": null,
   "metadata": {
    "collapsed": true
   },
   "outputs": [],
   "source": []
  }
 ],
 "metadata": {
  "kernelspec": {
   "display_name": "Python 3",
   "language": "python",
   "name": "python3"
  },
  "language_info": {
   "codemirror_mode": {
    "name": "ipython",
    "version": 3
   },
   "file_extension": ".py",
   "mimetype": "text/x-python",
   "name": "python",
   "nbconvert_exporter": "python",
   "pygments_lexer": "ipython3",
   "version": "3.4.3"
  }
 },
 "nbformat": 4,
 "nbformat_minor": 0
}
