{
 "cells": [
  {
   "cell_type": "markdown",
   "metadata": {},
   "source": [
    "# PyWo 2015\n",
    "\n",
    "---\n",
    "\n",
    "## Zapisnik od ponedjeljka, 31.08.2015.\n",
    "\n",
    "[public link](http://nbviewer.ipython.org/gist/marcelix/7a1943da17ee3ad4fdfa)\n",
    "\n",
    "---\n",
    "\n",
    "Dvije su osnovne opcije za instalaciju:\n",
    "\n",
    "#### Opcija 1. \n",
    "Debian/Ubuntu na laptopu. Nastavite na K-1.\n",
    "\n",
    "#### Opcija 2. \n",
    "\n",
    "Virtualna mašina ([virtualbox](https://www.virtualbox.org/), ne vmware). Ovo predlažem kao dobro rješenje za sve koji ste primarno na MS Windows OS-u. To je puno bolje rješenje nego sad ići raditi *dual boot*. Za  *dual boot* ćete sad potrošiti previše vremena. (Skoro) gotovu virtualnu mašinu možete preuzeti na linku\n",
    "```\n",
    "http://goo.gl/u7UCSJ\n",
    "```\n",
    "Skinite datoteku ```PyWo_kubuntu.ova``` s gornjeg linka (2.5GB). To je zapakirana virtualna mašina. Da bi je pretvorili u *živu* mašinu napravite sljedeće.\n",
    "Otvorite VirtualBox, u izborniku pokrenite ```Import Appliance``` i odaberite ```PyWo_kubuntu.ova``` datoteku koju ste upravo skinuli. Import traje nekoliko minuta. \n",
    "<br />\n",
    "Kad sve završi, upalite tu mašinu. Korisnik je ```pywo```, zaporka je ```pywo2015```. Dalje nastavite s K-1.\n",
    "\n",
    "Predlažem da napravite svog korisnika sa svojim imenom, odaberete lozinku itd.\n",
    "```bash\n",
    "sudo adduser ivanivanovic\n",
    "```\n",
    "Još moramo ubaciti ovog korisnika u ```sudo``` grupu da bi mogao ponekad administrirati:\n",
    "```bash\n",
    "sudo usermod -a -G sudo ivanivanovic\n",
    "```\n",
    "Izađite iz grafičkog sučelja (logout) i odaberite svog korisnika.\n",
    "<br />\n",
    "Dalje nastavite na K-1.\n",
    "\n",
    "#### Opcija 3.\n",
    "\n",
    "Instalirajte [Anaconda Python](https://store.continuum.io/cshop/anaconda/) distribuciju za MS Windows.  \n",
    "Ovo ne podržavam (u smislu da ne pružam korisničku podršku), ali može se.\n"
   ]
  },
  {
   "cell_type": "markdown",
   "metadata": {},
   "source": [
    "## K-1\n",
    "Potrebno je u sustavu instalirati neke pakete. Ako ih već imate, sustav se neće buniti.\n",
    "```bash\n",
    "sudo apt-get install build-essential gcc python3-dev python-dev cython virtualenvwrapper\n",
    "```"
   ]
  },
  {
   "cell_type": "markdown",
   "metadata": {},
   "source": [
    "## K-2\n",
    "\n",
    "Napravimo virtualno okruženje (virtual environment) vezano za python3 interpreter.\n",
    "```bash\n",
    "mkvirtualenv -p /usr/bin/python3 pywo3\n",
    "```\n",
    "\n",
    "Nakon toga ljuska u promptu pokazuje\n",
    "```bash\n",
    "(pywo3)marcelix@bento:~/work/\n",
    "```\n",
    "da naglasi da se trenutno nalazim u ```pywo3``` python okruženju.\n",
    "\n",
    "Iz virtualnog okruženja se izlazi upisivanjem ```deactivate```.  <br />\n",
    "Ponovno se mogu vratiti s\n",
    "```bash\n",
    "workon pywo3\n",
    "```"
   ]
  },
  {
   "cell_type": "markdown",
   "metadata": {},
   "source": [
    "## K-3\n",
    "\n",
    "Za upravljanje python paketima koristimo ```pip```. <br />\n",
    "Pogledajmo instalirane python pakete:\n",
    "```bash \n",
    "pip list\n",
    "```\n",
    "Ne bi smjelo biti puno takvih (npr. ```pip``` i ```setuptools```).\n",
    "\n",
    "-----\n",
    "\n",
    "Pogledajmo jesu li neki od instaliranih python paketa zastarjeli:\n",
    "```bash \n",
    "pip list --outdated\n",
    "```\n",
    "Zastarjele pakete možemo osvježiti.\n",
    "Npr.\n",
    "```bash \n",
    "pip install pip --upgrade\n",
    "```\n",
    "će osvježiti instalaciju ```pip```-a\n",
    "(ako ne upišemo ```--upgrade```, dobiti ćemo poruku da je ```pip``` već instaliran).\n",
    "\n",
    "---\n",
    "Pakete možemo tražiti s \n",
    "```bash\n",
    "pip search ime-neko\n",
    "```\n",
    "\n",
    "---\n",
    "Nama je za ```ipython notebook``` važan paket [```jupyter```](http://jupyter.org/) koji ćemo instalirati s \n",
    "```bash\n",
    "pip install jupyter\n",
    "```\n",
    "Za složene pakete poput ovog instalacija može potrajati nekoliko minuta (zbog kompilacije, instalacije povezanih paketa itd)."
   ]
  },
  {
   "cell_type": "markdown",
   "metadata": {},
   "source": [
    "## K-4\n",
    "\n",
    "Pokretanje ```ipython notebook```-a:\n",
    "```bash\n",
    "ipython notebook\n",
    "```\n",
    "Nakon toga se otvara novi prozor u pregledniku s pregledom trenutnog direktorija.\n",
    "Ovdje možete otvoriti neki postojeći ili kreirati novi ```notebook```."
   ]
  },
  {
   "cell_type": "markdown",
   "metadata": {},
   "source": [
    "# Misc\n",
    "\n",
    "(ignorirajte)"
   ]
  },
  {
   "cell_type": "code",
   "execution_count": 9,
   "metadata": {
    "collapsed": false
   },
   "outputs": [
    {
     "name": "stdout",
     "output_type": "stream",
     "text": [
      "https://gist.github.com/7a1943da17ee3ad4fdfa\r\n"
     ]
    }
   ],
   "source": [
    "!gist-paste Notes_01.ipynb -u https://gist.github.com/7a1943da17ee3ad4fdfa"
   ]
  }
 ],
 "metadata": {
  "kernelspec": {
   "display_name": "Python 3",
   "language": "python",
   "name": "python3"
  },
  "language_info": {
   "codemirror_mode": {
    "name": "ipython",
    "version": 3
   },
   "file_extension": ".py",
   "mimetype": "text/x-python",
   "name": "python",
   "nbconvert_exporter": "python",
   "pygments_lexer": "ipython3",
   "version": "3.4.3+"
  }
 },
 "nbformat": 4,
 "nbformat_minor": 0
}
