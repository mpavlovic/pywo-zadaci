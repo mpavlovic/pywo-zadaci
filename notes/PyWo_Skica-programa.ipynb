{
 "cells": [
  {
   "cell_type": "markdown",
   "metadata": {},
   "source": [
    "# [PyWo 2015](http://goo.gl/6oemXm)\n",
    "\n",
    "## Skica programa\n",
    "\n",
    "Program je izuzetno podložan promjenama. Očekujte svakodnevne izmjene. <br />\n",
    "[public url](http://nbviewer.ipython.org/gist/marcelix/450df100940ca95d7494?flush_cache=true)\n",
    "<!-- gist-id: 450df100940ca95d7494 -->"
   ]
  },
  {
   "cell_type": "markdown",
   "metadata": {},
   "source": [
    "#### Prvi tjedan - 31.08. &mdash; 04.09.\n",
    "<table width='100%'>\n",
    "<thead style=\"font-style:italic;background-color:#ccc\">\n",
    "<td width='20%'> Pon </td>\n",
    "<td width='20%'> Uto </td>\n",
    "<td width='20%'> Sri </td>\n",
    "<td width='20%'> Čet </td>\n",
    "<td width='20%'> Pet </td>\n",
    "</thead>\n",
    "\n",
    "<tr>\n",
    "<td bgcolor=\"#aca\"> Instalacija, priprema       \n",
    "<br />\n",
    "\n",
    "\n",
    "\n",
    "<a href=\"http://goo.gl/APCIMi\"> Bilješke </a>\n",
    "\n",
    "\n",
    "</td>\n",
    "\n",
    "\n",
    "<td bgcolor=\"#aca\"> upoznavanje ipython notebook razvojne okoline i\n",
    "    ponavljanje osnovnih struktura podataka u pythonu  <br />\n",
    "    (liste, skupovi, rječnik i sl.) <br />\n",
    "    upoznavanje s git-om.\n",
    "    \n",
    "    <br />\n",
    "    \n",
    "    <a href=\"http://goo.gl/PFQTxm\"> Bilješke </a>\n",
    "</td>\n",
    "    \n",
    "<td> funkcije, dekoratori, generatori i funkcionalno programiranje \n",
    "\n",
    "\n",
    "<p>\n",
    "<a href=\"http://goo.gl/9mZkmO\"> Bilješke </a>\n",
    "</p>\n",
    "\n",
    "</td>\n",
    "\n",
    "\n",
    "\n",
    "<td style=\"background-color:#ccc;text-align:center\"> &mdash; slobodno &mdash; </td>\n",
    "<td> MATLAB-like Python <br /> \n",
    "     numpy, matplotlib, scipy,<br />\n",
    "     simpy <br /> (A. Đerek)</td>\n",
    "</tr>\n",
    "\n",
    "\n",
    "</table>"
   ]
  },
  {
   "cell_type": "markdown",
   "metadata": {},
   "source": [
    "#### Drugi tjedan - 14.09. &mdash; 18.09.\n",
    "<table width='100%'>\n",
    "<thead style=\"font-style:italic;background-color:#ccc\">\n",
    "<td width='20%'> Pon </td>\n",
    "<td width='20%'> Uto </td>\n",
    "<td width='20%'> Sri </td>\n",
    "<td width='20%'> Čet </td>\n",
    "<td width='20%'> Pet </td>\n",
    "</thead>\n",
    "\n",
    " \n",
    "<tr>\n",
    "<td>  pandas <br /> networkx            </td>\n",
    "<td>  testiranje (unit, mocks)   <br />\n",
    "odabrane OOP teme\n",
    "</td>\n",
    "\n",
    "<td style=\"background-color:#ccc;text-align:center\"> &mdash; slobodno &mdash; </td>\n",
    "<td>  web programiranje (flask) </td>\n",
    "\n",
    "<td> <em>... još ćemo vidjeti... </em>\n",
    "<br />\n",
    "IDE primjer: pycharm, refactory, optimizacija\n",
    "</td>\n",
    "</tr>\n",
    "\n",
    "</table>"
   ]
  },
  {
   "cell_type": "markdown",
   "metadata": {},
   "source": [
    "<!--\n",
    "### Nesortirani:\n",
    "\n",
    "pyparsing, pygame, map & reduce?, baze? sqlalchemy?\n",
    "\n",
    "### NE planira se:\n",
    "Django\n",
    "-->"
   ]
  },
  {
   "cell_type": "code",
   "execution_count": 18,
   "metadata": {
    "collapsed": false
   },
   "outputs": [
    {
     "name": "stdout",
     "output_type": "stream",
     "text": [
      "https://gist.github.com/450df100940ca95d7494\r\n"
     ]
    }
   ],
   "source": [
    "!gist-paste PyWo_Skica-programa.ipynb -u https://gist.github.com/450df100940ca95d7494"
   ]
  }
 ],
 "metadata": {
  "kernelspec": {
   "display_name": "Python 3",
   "language": "python",
   "name": "python3"
  },
  "language_info": {
   "codemirror_mode": {
    "name": "ipython",
    "version": 3
   },
   "file_extension": ".py",
   "mimetype": "text/x-python",
   "name": "python",
   "nbconvert_exporter": "python",
   "pygments_lexer": "ipython3",
   "version": "3.4.3+"
  }
 },
 "nbformat": 4,
 "nbformat_minor": 0
}
