{
 "cells": [
  {
   "cell_type": "markdown",
   "metadata": {},
   "source": [
    "# Slaganje git konfiguracije\n",
    "\n",
    "vidi link:\n",
    "https://git-scm.com/book/en/v2/Customizing-Git-Git-Configuration\n",
    "\n",
    "Da bi uopće mogli napraviti ```git commit``` moramo git-u dati podatke pod kojima\n",
    "će evidentirati naše promjene u projektu.\n",
    "```\n",
    "git config --global user.name=\"Ivan Ivanović\"\n",
    "git config --global user.email=vas_username@gmail.com\n",
    "```\n"
   ]
  },
  {
   "cell_type": "code",
   "execution_count": 54,
   "metadata": {
    "collapsed": false
   },
   "outputs": [
    {
     "name": "stdout",
     "output_type": "stream",
     "text": [
      " user.name: Marcel Maretic\n",
      "user.email: marcelix@gmail.com\n"
     ]
    }
   ],
   "source": [
    "user_name = input(\" user.name: \")\n",
    "user_email= input(\"user.email: \")"
   ]
  },
  {
   "cell_type": "code",
   "execution_count": 61,
   "metadata": {
    "collapsed": false
   },
   "outputs": [
    {
     "name": "stdout",
     "output_type": "stream",
     "text": [
      "user.name=Marcel Maretic\r\n",
      "user.email=marcelix@gmail.com\r\n",
      "push.default=simple\r\n"
     ]
    }
   ],
   "source": [
    "!git config --global user.name  \"$user_name\"\n",
    "!git config --global user.email  \"$user_email\"\n",
    "\n",
    "# ispisi trenutni sadrzaj globalne konfiguracije\n",
    "!git config --global -l"
   ]
  }
 ],
 "metadata": {
  "kernelspec": {
   "display_name": "Python 3",
   "language": "python",
   "name": "python3"
  },
  "language_info": {
   "codemirror_mode": {
    "name": "ipython",
    "version": 3
   },
   "file_extension": ".py",
   "mimetype": "text/x-python",
   "name": "python",
   "nbconvert_exporter": "python",
   "pygments_lexer": "ipython3",
   "version": "3.4.3+"
  }
 },
 "nbformat": 4,
 "nbformat_minor": 0
}
