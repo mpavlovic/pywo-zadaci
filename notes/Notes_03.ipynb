{
 "cells": [
  {
   "cell_type": "markdown",
   "metadata": {},
   "source": [
    "# [PyWo 2015](http://goo.gl/6oemXm)\n",
    "---\n",
    "\n",
    "## Zapisnik od srijede, 02.09.2015.\n",
    "[public link](http://nbviewer.ipython.org/gist/marcelix/dba07613d3cf0ebb6bd7)\n",
    "<!-- http://goo.gl/9mZkmO -->\n",
    "\n",
    "---"
   ]
  },
  {
   "cell_type": "markdown",
   "metadata": {},
   "source": [
    "## Sadržaj\n",
    "\n",
    "* funkcije i argumenti (positional & keyword arguments, pakiranje)\n",
    "* iterator protokol, generatori - primjeri i vježba\n",
    "* praktične vježbe: debuggiranje, pisanje modula, paketa, konfiguracija, ```argparser```\n",
    "* paradigma funkcionalnog programiranja u pythonu\n",
    "\n",
    "\n",
    "---"
   ]
  },
  {
   "cell_type": "markdown",
   "metadata": {},
   "source": [
    "Ako vam se dopao ```liquidprompt```, postavite ga kao polazni prompt u interaktivnoj ljusci.\n",
    "\n",
    "Ubacite sljedeće linije na kraj ```~/.bashrc```\n",
    "```bash\n",
    "# Only load Liquid Prompt in interactive shells, not from a script or from scp\n",
    "[[ $- = *i* ]] && source ~/liquidprompt/liquidprompt\n",
    "```\n",
    "uz pretpostavku da je ```~/liquidprompt/``` ispravna putanja.\n",
    "\n",
    "-----"
   ]
  },
  {
   "cell_type": "markdown",
   "metadata": {},
   "source": [
    "## git\n",
    "\n",
    "* napravite i bitbucket account\n",
    "* ```git config --global user.name=\"Ivan Ivanović\"```\n",
    "* ```git config --global user.email=vas_username@gmail.com```\n",
    "* git vježba  &mdash; add, commit, pull, merge\n",
    "\n",
    "---"
   ]
  },
  {
   "cell_type": "markdown",
   "metadata": {},
   "source": [
    "## iterator protokol\n",
    "\n",
    "* uvodni primjeri\n",
    "\n",
    "---\n",
    "\n"
   ]
  },
  {
   "cell_type": "markdown",
   "metadata": {},
   "source": [
    "## Generatori\n",
    "* primjeri\n",
    "* U python3 je puno čišća situacija, dizajn je sad konzistentan\n",
    "* zadaci\n",
    "\n",
    "---"
   ]
  },
  {
   "cell_type": "markdown",
   "metadata": {},
   "source": [
    "## Paradigma funkcionalnog programiranja\n",
    "* Što je to i što od toga ima python?\n",
    "\n",
    "---"
   ]
  },
  {
   "cell_type": "markdown",
   "metadata": {},
   "source": [
    "# Misc\n",
    "\n",
    "(ignorirajte)"
   ]
  },
  {
   "cell_type": "code",
   "execution_count": 11,
   "metadata": {
    "collapsed": false
   },
   "outputs": [
    {
     "name": "stdout",
     "output_type": "stream",
     "text": [
      "https://gist.github.com/dba07613d3cf0ebb6bd7\r\n"
     ]
    }
   ],
   "source": [
    "gist_url = r\"https://gist.github.com/dba07613d3cf0ebb6bd7\"\n",
    "!gist-paste Notes_03.ipynb -u $gist_url"
   ]
  }
 ],
 "metadata": {
  "kernelspec": {
   "display_name": "Python 3",
   "language": "python",
   "name": "python3"
  },
  "language_info": {
   "codemirror_mode": {
    "name": "ipython",
    "version": 3
   },
   "file_extension": ".py",
   "mimetype": "text/x-python",
   "name": "python",
   "nbconvert_exporter": "python",
   "pygments_lexer": "ipython3",
   "version": "3.4.3+"
  }
 },
 "nbformat": 4,
 "nbformat_minor": 0
}
