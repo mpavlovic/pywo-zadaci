{
 "cells": [
  {
   "cell_type": "markdown",
   "metadata": {},
   "source": [
    "# [PyWo 2015](http://goo.gl/6oemXm)\n",
    "---\n",
    "\n",
    "## Zapisnik od utorka, 01.09.2015.\n",
    "\n",
    "\n",
    "[public link](http://goo.gl/PFQTxm)\n",
    "\n",
    "---"
   ]
  },
  {
   "cell_type": "markdown",
   "metadata": {},
   "source": [
    "## Sadržaj\n",
    "* Upoznavanje ipython notebook-a\n",
    "* Ponavljanje listi, skupova, rječnika s nekoliko malih zadataka koje smo riješili na više načina \n",
    " \n",
    "* git - vrlo osnovno\n"
   ]
  },
  {
   "cell_type": "markdown",
   "metadata": {},
   "source": [
    "## ipython notebook\n",
    "\n",
    "* nekoliko malih programa\n",
    "* osnovni način korištenja (rad s ćelijama, *code completion*, %lsmagics, %load, %write, %whos, %pdb).\n",
    "<br />\n",
    "Na primjer, evaluirajte sljedeću ćeliju  za popis ```%magic```"
   ]
  },
  {
   "cell_type": "code",
   "execution_count": null,
   "metadata": {
    "collapsed": true
   },
   "outputs": [],
   "source": [
    "%lsmagic"
   ]
  },
  {
   "cell_type": "markdown",
   "metadata": {},
   "source": [
    "* interakcija s ljuskom (npr. ```!ls```) i kombiniranje ljuske i ipythona <br />\n",
    "\n",
    "Na primjer\n",
    "```python\n",
    "files = !ls -la\n",
    "```\n",
    "\n",
    "```files``` je lista linija koje vratila naredba ```ls -la```.\n",
    "Može se kombinirati i u drugom smjeru (koristiti python varijable u ljusci).\n",
    "```python\n",
    "#ovo je python\n",
    "username = ivanivanovic\n",
    "\n",
    "#a ovo je shell koji interpretira python varijablu\n",
    "!echo $username\n",
    "```"
   ]
  },
  {
   "cell_type": "code",
   "execution_count": 7,
   "metadata": {
    "collapsed": false
   },
   "outputs": [],
   "source": [
    "%lsmagic"
   ]
  },
  {
   "cell_type": "markdown",
   "metadata": {},
   "source": [
    "## Osnove Git-a\n",
    "* kloniranje repozitorija \n",
    "Npr. za probu smo klonirali [```liquidprompt```](https://github.com/nojhan/liquidprompt) projekt koji daje bolji prompt u ```bash``` ljusci.\n",
    "U odabrani direktorij\n",
    "```bash\n",
    "git clone git@github.com:nojhan/liquidprompt.git\n",
    "```\n",
    "S tim se isplati poigrati jer ćete dobiti bolji ```prompt``` u ljusci.\n",
    "* Naši zadaci: \n",
    "```bash\n",
    "git clone https://marcelix@bitbucket.org/marcelix/pywo-zadaci.git\n",
    "```\n",
    "Kasnije, kad objavimo novi zadatak dovoljno je napraviti \n",
    "```bash\n",
    "git pull\n",
    "```\n",
    "za povlačenje zadnjih promjena na repozitoriju."
   ]
  },
  {
   "cell_type": "markdown",
   "metadata": {},
   "source": [
    "# Misc\n",
    "\n",
    "(ignorirajte)"
   ]
  },
  {
   "cell_type": "code",
   "execution_count": 1,
   "metadata": {
    "collapsed": false
   },
   "outputs": [
    {
     "name": "stdout",
     "output_type": "stream",
     "text": [
      "https://gist.github.com/8f13e199a6df186dbc80\r\n"
     ]
    }
   ],
   "source": [
    "gist_url = r\"https://gist.github.com/8f13e199a6df186dbc80\"\n",
    "!gist-paste Notes_02.ipynb -u $gist_url"
   ]
  },
  {
   "cell_type": "code",
   "execution_count": 3,
   "metadata": {
    "collapsed": false
   },
   "outputs": [],
   "source": [
    "!git add *.ipynb"
   ]
  },
  {
   "cell_type": "code",
   "execution_count": null,
   "metadata": {
    "collapsed": true
   },
   "outputs": [],
   "source": []
  }
 ],
 "metadata": {
  "kernelspec": {
   "display_name": "Python 3",
   "language": "python",
   "name": "python3"
  },
  "language_info": {
   "codemirror_mode": {
    "name": "ipython",
    "version": 3
   },
   "file_extension": ".py",
   "mimetype": "text/x-python",
   "name": "python",
   "nbconvert_exporter": "python",
   "pygments_lexer": "ipython3",
   "version": "3.4.3+"
  }
 },
 "nbformat": 4,
 "nbformat_minor": 0
}
